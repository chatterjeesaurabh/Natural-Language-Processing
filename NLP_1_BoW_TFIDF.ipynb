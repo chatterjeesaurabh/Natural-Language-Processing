{
 "cells": [
  {
   "cell_type": "markdown",
   "metadata": {},
   "source": [
    "### NLP: Cleaning, Stop Words Removal, Stemming, Lemmatization, Bag of Words\n",
    "##### Saurabh Chatterjee"
   ]
  },
  {
   "cell_type": "code",
   "execution_count": 20,
   "metadata": {},
   "outputs": [],
   "source": [
    "import nltk\n",
    "from nltk.corpus import stopwords\n",
    "from nltk.stem import PorterStemmer\n",
    "from nltk.stem import WordNetLemmatizer\n"
   ]
  },
  {
   "cell_type": "code",
   "execution_count": 9,
   "metadata": {},
   "outputs": [],
   "source": [
    "paragraph = \"Naruto is a Japanese manga series written and illustrated by Masashi Kishimoto. It tells the story of Naruto Uzumaki, a young ninja who seeks recognition from his peers and dreams of becoming the Hokage, the leader of his village. Naruto is one of the best-selling manga series of all time, having 250 million copies in circulation worldwide in 47 countries and regions, with 153 million copies in Japan alone and remaining 97 million copies elsewhere. On the day of Naruto Uzamaki's birth the village of Konoha was attacked by the 9-tailed fox demon. In order to protect the village Naruto's father the 4th hokage sacrificed his life and sealed the demon in his new born son. 13 years later Naruto graduates the ninja academy and becomes a shinobi with goal to be the hokage of the village. Joining him are rival Sasuke Uchiha who attempts to gain power to avenge his clan after they were murdered by his older brother Itachi. And Sakura Haruno who is Naruto's love interest who of course loves his rival Sasuke. But when itachi returns to the village after the chunnin exams and Sasuke proves to be powerless against him. Sasuke will fall to the villainous Orochimaru to gain power. Naruto must do everything in his power to stop his friend from loosing himself to darkness even if it means losing himself.\""
   ]
  },
  {
   "cell_type": "code",
   "execution_count": 10,
   "metadata": {},
   "outputs": [
    {
     "data": {
      "text/plain": [
       "\"Naruto is a Japanese manga series written and illustrated by Masashi Kishimoto. It tells the story of Naruto Uzumaki, a young ninja who seeks recognition from his peers and dreams of becoming the Hokage, the leader of his village. Naruto is one of the best-selling manga series of all time, having 250 million copies in circulation worldwide in 47 countries and regions, with 153 million copies in Japan alone and remaining 97 million copies elsewhere. On the day of Naruto Uzamaki's birth the village of Konoha was attacked by the 9-tailed fox demon. In order to protect the village Naruto's father the 4th hokage sacrificed his life and sealed the demon in his new born son. 13 years later Naruto graduates the ninja academy and becomes a shinobi with goal to be the hokage of the village. Joining him are rival Sasuke Uchiha who attempts to gain power to avenge his clan after they were murdered by his older brother Itachi. And Sakura Haruno who is Naruto's love interest who of course loves his rival Sasuke. But when itachi returns to the village after the chunnin exams and Sasuke proves to be powerless against him. Sasuke will fall to the villainous Orochimaru to gain power. Naruto must do everything in his power to stop his friend from loosing himself to darkness even if it means losing himself.\""
      ]
     },
     "execution_count": 10,
     "metadata": {},
     "output_type": "execute_result"
    }
   ],
   "source": [
    "paragraph"
   ]
  },
  {
   "cell_type": "code",
   "execution_count": null,
   "metadata": {},
   "outputs": [],
   "source": [
    "## TOKENIZATION: Converts paragraph into sentences (sentence-tokenized)\n",
    "nltk.download('punkt')      # Download Punkt Package "
   ]
  },
  {
   "cell_type": "code",
   "execution_count": 14,
   "metadata": {},
   "outputs": [
    {
     "name": "stderr",
     "output_type": "stream",
     "text": [
      "[nltk_data] Downloading package punkt to C:\\Users\\Saurabh\n",
      "[nltk_data]     Chatterjee\\AppData\\Roaming\\nltk_data...\n",
      "[nltk_data]   Package punkt is already up-to-date!\n"
     ]
    }
   ],
   "source": [
    "## TOKENIZATION: Converts paragraph into sentences (sentence-tokenized)\n",
    "\n",
    "sentences = nltk.sent_tokenize(paragraph)       # Returns a LIST of Sentences "
   ]
  },
  {
   "cell_type": "code",
   "execution_count": 15,
   "metadata": {},
   "outputs": [
    {
     "data": {
      "text/plain": [
       "['Naruto is a Japanese manga series written and illustrated by Masashi Kishimoto.',\n",
       " 'It tells the story of Naruto Uzumaki, a young ninja who seeks recognition from his peers and dreams of becoming the Hokage, the leader of his village.',\n",
       " 'Naruto is one of the best-selling manga series of all time, having 250 million copies in circulation worldwide in 47 countries and regions, with 153 million copies in Japan alone and remaining 97 million copies elsewhere.',\n",
       " \"On the day of Naruto Uzamaki's birth the village of Konoha was attacked by the 9-tailed fox demon.\",\n",
       " \"In order to protect the village Naruto's father the 4th hokage sacrificed his life and sealed the demon in his new born son.\",\n",
       " '13 years later Naruto graduates the ninja academy and becomes a shinobi with goal to be the hokage of the village.',\n",
       " 'Joining him are rival Sasuke Uchiha who attempts to gain power to avenge his clan after they were murdered by his older brother Itachi.',\n",
       " \"And Sakura Haruno who is Naruto's love interest who of course loves his rival Sasuke.\",\n",
       " 'But when itachi returns to the village after the chunnin exams and Sasuke proves to be powerless against him.',\n",
       " 'Sasuke will fall to the villainous Orochimaru to gain power.',\n",
       " 'Naruto must do everything in his power to stop his friend from loosing himself to darkness even if it means losing himself.']"
      ]
     },
     "execution_count": 15,
     "metadata": {},
     "output_type": "execute_result"
    }
   ],
   "source": [
    "sentences       # sentence list"
   ]
  },
  {
   "cell_type": "code",
   "execution_count": 26,
   "metadata": {},
   "outputs": [
    {
     "name": "stdout",
     "output_type": "stream",
     "text": [
      "go\n",
      "histori\n",
      "drink\n",
      "goe\n"
     ]
    }
   ],
   "source": [
    "## STEMMING\n",
    "\n",
    "stemmer = PorterStemmer()\n",
    "\n",
    "print(stemmer.stem('going'))\n",
    "print(stemmer.stem('history'))\n",
    "print(stemmer.stem('drinking'))\n",
    "print(stemmer.stem('goes'))"
   ]
  },
  {
   "cell_type": "code",
   "execution_count": null,
   "metadata": {},
   "outputs": [],
   "source": [
    "## LEMMATIZATION\n",
    "nltk.download('wordnet')        # download WordNet package"
   ]
  },
  {
   "cell_type": "code",
   "execution_count": 31,
   "metadata": {},
   "outputs": [
    {
     "name": "stdout",
     "output_type": "stream",
     "text": [
      "going\n",
      "history\n",
      "drinking\n",
      "go\n"
     ]
    }
   ],
   "source": [
    "## LEMMATIZATION\n",
    "\n",
    "lemmatizer = WordNetLemmatizer()\n",
    "\n",
    "print(lemmatizer.lemmatize('going'))\n",
    "print(lemmatizer.lemmatize('history'))\n",
    "print(lemmatizer.lemmatize('drinking'))\n",
    "print(lemmatizer.lemmatize('goes'))"
   ]
  },
  {
   "cell_type": "markdown",
   "metadata": {},
   "source": [
    "#### Text Preprocessing: CLEANING"
   ]
  },
  {
   "cell_type": "code",
   "execution_count": 27,
   "metadata": {},
   "outputs": [],
   "source": [
    "import re       # REGULAR EXPRESSION **"
   ]
  },
  {
   "cell_type": "code",
   "execution_count": 32,
   "metadata": {},
   "outputs": [
    {
     "data": {
      "text/plain": [
       "['naruto is a japanese manga series written and illustrated by masashi kishimoto ',\n",
       " 'it tells the story of naruto uzumaki  a young ninja who seeks recognition from his peers and dreams of becoming the hokage  the leader of his village ',\n",
       " 'naruto is one of the best selling manga series of all time  having     million copies in circulation worldwide in    countries and regions  with     million copies in japan alone and remaining    million copies elsewhere ',\n",
       " 'on the day of naruto uzamaki s birth the village of konoha was attacked by the   tailed fox demon ',\n",
       " 'in order to protect the village naruto s father the  th hokage sacrificed his life and sealed the demon in his new born son ',\n",
       " '   years later naruto graduates the ninja academy and becomes a shinobi with goal to be the hokage of the village ',\n",
       " 'joining him are rival sasuke uchiha who attempts to gain power to avenge his clan after they were murdered by his older brother itachi ',\n",
       " 'and sakura haruno who is naruto s love interest who of course loves his rival sasuke ',\n",
       " 'but when itachi returns to the village after the chunnin exams and sasuke proves to be powerless against him ',\n",
       " 'sasuke will fall to the villainous orochimaru to gain power ',\n",
       " 'naruto must do everything in his power to stop his friend from loosing himself to darkness even if it means losing himself ']"
      ]
     },
     "execution_count": 32,
     "metadata": {},
     "output_type": "execute_result"
    }
   ],
   "source": [
    "corpus = []     # cleaned sentences list\n",
    "\n",
    "for i in range(len(sentences)):\n",
    "    review = re.sub('[^a-zA-Z]', ' ', sentences[i])     # Replace Characters \"OTHER THAN' (^) a-z and A-Z\n",
    "    review = review.lower()     # Lower the CASE\n",
    "    corpus.append(review)\n",
    "\n",
    "corpus"
   ]
  },
  {
   "cell_type": "markdown",
   "metadata": {},
   "source": [
    "#### Text Preprocessing: STEMMING"
   ]
  },
  {
   "cell_type": "code",
   "execution_count": 35,
   "metadata": {},
   "outputs": [
    {
     "name": "stdout",
     "output_type": "stream",
     "text": [
      "naruto\n",
      "japanes\n",
      "manga\n",
      "seri\n",
      "written\n",
      "illustr\n",
      "masashi\n",
      "kishimoto\n",
      "tell\n",
      "stori\n",
      "naruto\n",
      "uzumaki\n",
      "young\n",
      "ninja\n",
      "seek\n",
      "recognit\n",
      "peer\n",
      "dream\n",
      "becom\n",
      "hokag\n",
      "leader\n",
      "villag\n",
      "naruto\n",
      "one\n",
      "best\n",
      "sell\n",
      "manga\n",
      "seri\n",
      "time\n",
      "million\n",
      "copi\n",
      "circul\n",
      "worldwid\n",
      "countri\n",
      "region\n",
      "million\n",
      "copi\n",
      "japan\n",
      "alon\n",
      "remain\n",
      "million\n",
      "copi\n",
      "elsewher\n",
      "day\n",
      "naruto\n",
      "uzamaki\n",
      "birth\n",
      "villag\n",
      "konoha\n",
      "attack\n",
      "tail\n",
      "fox\n",
      "demon\n",
      "order\n",
      "protect\n",
      "villag\n",
      "naruto\n",
      "father\n",
      "th\n",
      "hokag\n",
      "sacrif\n",
      "life\n",
      "seal\n",
      "demon\n",
      "new\n",
      "born\n",
      "son\n",
      "year\n",
      "later\n",
      "naruto\n",
      "graduat\n",
      "ninja\n",
      "academi\n",
      "becom\n",
      "shinobi\n",
      "goal\n",
      "hokag\n",
      "villag\n",
      "join\n",
      "rival\n",
      "sasuk\n",
      "uchiha\n",
      "attempt\n",
      "gain\n",
      "power\n",
      "aveng\n",
      "clan\n",
      "murder\n",
      "older\n",
      "brother\n",
      "itachi\n",
      "sakura\n",
      "haruno\n",
      "naruto\n",
      "love\n",
      "interest\n",
      "cours\n",
      "love\n",
      "rival\n",
      "sasuk\n",
      "itachi\n",
      "return\n",
      "villag\n",
      "chunnin\n",
      "exam\n",
      "sasuk\n",
      "prove\n",
      "powerless\n",
      "sasuk\n",
      "fall\n",
      "villain\n",
      "orochimaru\n",
      "gain\n",
      "power\n",
      "naruto\n",
      "must\n",
      "everyth\n",
      "power\n",
      "stop\n",
      "friend\n",
      "loos\n",
      "dark\n",
      "even\n",
      "mean\n",
      "lose\n"
     ]
    }
   ],
   "source": [
    "for sentence in corpus:\n",
    "    words = nltk.word_tokenize(sentence)    # Word Tokenize from Sentence (get Word LIST)\n",
    "    \n",
    "    for word in words:\n",
    "        if word not in set(stopwords.words('english')):     ## IGNORING STOP-WORDS **\n",
    "            print(stemmer.stem(word))      # Stemming"
   ]
  },
  {
   "cell_type": "markdown",
   "metadata": {},
   "source": [
    "#### Text Preprocessing: LEMMATIZATION"
   ]
  },
  {
   "cell_type": "code",
   "execution_count": 36,
   "metadata": {},
   "outputs": [
    {
     "name": "stdout",
     "output_type": "stream",
     "text": [
      "naruto\n",
      "japanese\n",
      "manga\n",
      "series\n",
      "written\n",
      "illustrated\n",
      "masashi\n",
      "kishimoto\n",
      "tell\n",
      "story\n",
      "naruto\n",
      "uzumaki\n",
      "young\n",
      "ninja\n",
      "seek\n",
      "recognition\n",
      "peer\n",
      "dream\n",
      "becoming\n",
      "hokage\n",
      "leader\n",
      "village\n",
      "naruto\n",
      "one\n",
      "best\n",
      "selling\n",
      "manga\n",
      "series\n",
      "time\n",
      "million\n",
      "copy\n",
      "circulation\n",
      "worldwide\n",
      "country\n",
      "region\n",
      "million\n",
      "copy\n",
      "japan\n",
      "alone\n",
      "remaining\n",
      "million\n",
      "copy\n",
      "elsewhere\n",
      "day\n",
      "naruto\n",
      "uzamaki\n",
      "birth\n",
      "village\n",
      "konoha\n",
      "attacked\n",
      "tailed\n",
      "fox\n",
      "demon\n",
      "order\n",
      "protect\n",
      "village\n",
      "naruto\n",
      "father\n",
      "th\n",
      "hokage\n",
      "sacrificed\n",
      "life\n",
      "sealed\n",
      "demon\n",
      "new\n",
      "born\n",
      "son\n",
      "year\n",
      "later\n",
      "naruto\n",
      "graduate\n",
      "ninja\n",
      "academy\n",
      "becomes\n",
      "shinobi\n",
      "goal\n",
      "hokage\n",
      "village\n",
      "joining\n",
      "rival\n",
      "sasuke\n",
      "uchiha\n",
      "attempt\n",
      "gain\n",
      "power\n",
      "avenge\n",
      "clan\n",
      "murdered\n",
      "older\n",
      "brother\n",
      "itachi\n",
      "sakura\n",
      "haruno\n",
      "naruto\n",
      "love\n",
      "interest\n",
      "course\n",
      "love\n",
      "rival\n",
      "sasuke\n",
      "itachi\n",
      "return\n",
      "village\n",
      "chunnin\n",
      "exam\n",
      "sasuke\n",
      "prof\n",
      "powerless\n",
      "sasuke\n",
      "fall\n",
      "villainous\n",
      "orochimaru\n",
      "gain\n",
      "power\n",
      "naruto\n",
      "must\n",
      "everything\n",
      "power\n",
      "stop\n",
      "friend\n",
      "loosing\n",
      "darkness\n",
      "even\n",
      "mean\n",
      "losing\n"
     ]
    }
   ],
   "source": [
    "for sentence in corpus:\n",
    "    words = nltk.word_tokenize(sentence)    # Word Tokenize from Sentence (get Word LIST)\n",
    "    \n",
    "    for word in words:\n",
    "        if word not in set(stopwords.words('english')):     ## IGNORING STOP-WORDS **\n",
    "            print(lemmatizer.lemmatize(word))      # Stemming"
   ]
  },
  {
   "cell_type": "markdown",
   "metadata": {},
   "source": [
    "#### Text Processing: Cleaning, Stop-words Removal, Lemmatization"
   ]
  },
  {
   "cell_type": "code",
   "execution_count": 47,
   "metadata": {},
   "outputs": [],
   "source": [
    "import re       # REGULAR EXPRESSION \n",
    "\n",
    "corpus = []\n",
    "\n",
    "for i in range(len(sentences)):\n",
    "    review = re.sub('[^a-zA-Z]', ' ', sentences[i])     # Replace Characters \"OTHER THAN' (^) a-z and A-Z in the sentence   (Cleaning)\n",
    "    review = review.lower()     # lower the Case\n",
    "    review = review.split()     # Get the WORDS as a LIST (Split based on Space)\n",
    "\n",
    "    review = [lemmatizer.lemmatize(word) for word in review if not word in set(stopwords.words('english'))]     ## IGNORING STOP-WORDS ** and doing LEMMATIZATION | List\n",
    "    review = ' '.join(review)   # joining list to string sentence\n",
    "    corpus.append(review)\n",
    "    "
   ]
  },
  {
   "cell_type": "markdown",
   "metadata": {},
   "source": [
    "#### Bag of Words"
   ]
  },
  {
   "cell_type": "code",
   "execution_count": 59,
   "metadata": {},
   "outputs": [],
   "source": [
    "from sklearn .feature_extraction.text import CountVectorizer\n",
    "\n",
    "## BAG of WORDS **\n",
    "countvec = CountVectorizer()  \n",
    "# countvec = CountVectorizer(ngram_range=(1,3))  ## *ngram_range: (1 to 3): consider single word, BI-GRAMS and TRI-GRAMS  \n",
    "\n",
    "X_bow = countvec.fit_transform(corpus)"
   ]
  },
  {
   "cell_type": "code",
   "execution_count": 60,
   "metadata": {},
   "outputs": [
    {
     "data": {
      "text/plain": [
       "{'naruto': 54,\n",
       " 'japanese': 38,\n",
       " 'manga': 48,\n",
       " 'series': 77,\n",
       " 'written': 92,\n",
       " 'illustrated': 34,\n",
       " 'masashi': 49,\n",
       " 'kishimoto': 40,\n",
       " 'tell': 83,\n",
       " 'story': 81,\n",
       " 'uzumaki': 88,\n",
       " 'young': 94,\n",
       " 'ninja': 56,\n",
       " 'seek': 75,\n",
       " 'recognition': 66,\n",
       " 'peer': 61,\n",
       " 'dream': 20,\n",
       " 'becoming': 6,\n",
       " 'hokage': 33,\n",
       " 'leader': 43,\n",
       " 'village': 89,\n",
       " 'one': 58,\n",
       " 'best': 7,\n",
       " 'selling': 76,\n",
       " 'time': 85,\n",
       " 'million': 51,\n",
       " 'copy': 14,\n",
       " 'circulation': 12,\n",
       " 'worldwide': 91,\n",
       " 'country': 15,\n",
       " 'region': 67,\n",
       " 'japan': 37,\n",
       " 'alone': 1,\n",
       " 'remaining': 68,\n",
       " 'elsewhere': 21,\n",
       " 'day': 18,\n",
       " 'uzamaki': 87,\n",
       " 'birth': 8,\n",
       " 'konoha': 41,\n",
       " 'attacked': 2,\n",
       " 'tailed': 82,\n",
       " 'fox': 27,\n",
       " 'demon': 19,\n",
       " 'order': 59,\n",
       " 'protect': 65,\n",
       " 'father': 26,\n",
       " 'th': 84,\n",
       " 'sacrificed': 71,\n",
       " 'life': 44,\n",
       " 'sealed': 74,\n",
       " 'new': 55,\n",
       " 'born': 9,\n",
       " 'son': 79,\n",
       " 'year': 93,\n",
       " 'later': 42,\n",
       " 'graduate': 31,\n",
       " 'academy': 0,\n",
       " 'becomes': 5,\n",
       " 'shinobi': 78,\n",
       " 'goal': 30,\n",
       " 'joining': 39,\n",
       " 'rival': 70,\n",
       " 'sasuke': 73,\n",
       " 'uchiha': 86,\n",
       " 'attempt': 3,\n",
       " 'gain': 29,\n",
       " 'power': 62,\n",
       " 'avenge': 4,\n",
       " 'clan': 13,\n",
       " 'murdered': 52,\n",
       " 'older': 57,\n",
       " 'brother': 10,\n",
       " 'itachi': 36,\n",
       " 'sakura': 72,\n",
       " 'haruno': 32,\n",
       " 'love': 47,\n",
       " 'interest': 35,\n",
       " 'course': 16,\n",
       " 'return': 69,\n",
       " 'chunnin': 11,\n",
       " 'exam': 24,\n",
       " 'prof': 64,\n",
       " 'powerless': 63,\n",
       " 'fall': 25,\n",
       " 'villainous': 90,\n",
       " 'orochimaru': 60,\n",
       " 'must': 53,\n",
       " 'everything': 23,\n",
       " 'stop': 80,\n",
       " 'friend': 28,\n",
       " 'loosing': 45,\n",
       " 'darkness': 17,\n",
       " 'even': 22,\n",
       " 'mean': 50,\n",
       " 'losing': 46}"
      ]
     },
     "execution_count": 60,
     "metadata": {},
     "output_type": "execute_result"
    }
   ],
   "source": [
    "countvec.vocabulary_       # Corpus Vocabolary Dictionary in BoW: returns WORD-INDEX Mapping"
   ]
  },
  {
   "cell_type": "code",
   "execution_count": 61,
   "metadata": {},
   "outputs": [
    {
     "name": "stdout",
     "output_type": "stream",
     "text": [
      "naruto japanese manga series written illustrated masashi kishimoto\n"
     ]
    },
    {
     "data": {
      "text/plain": [
       "array([[0, 0, 0, 0, 0, 0, 0, 0, 0, 0, 0, 0, 0, 0, 0, 0, 0, 0, 0, 0, 0, 0,\n",
       "        0, 0, 0, 0, 0, 0, 0, 0, 0, 0, 0, 0, 1, 0, 0, 0, 1, 0, 1, 0, 0, 0,\n",
       "        0, 0, 0, 0, 1, 1, 0, 0, 0, 0, 1, 0, 0, 0, 0, 0, 0, 0, 0, 0, 0, 0,\n",
       "        0, 0, 0, 0, 0, 0, 0, 0, 0, 0, 0, 1, 0, 0, 0, 0, 0, 0, 0, 0, 0, 0,\n",
       "        0, 0, 0, 0, 1, 0, 0]], dtype=int64)"
      ]
     },
     "execution_count": 61,
     "metadata": {},
     "output_type": "execute_result"
    }
   ],
   "source": [
    "# checking BoW-VECTOR of first sentence in the Corpus\n",
    "print(corpus[0])\n",
    "\n",
    "X_bow[0].toarray()      "
   ]
  },
  {
   "cell_type": "markdown",
   "metadata": {},
   "source": [
    "#### TF-IDF: Term Frequency - Inverse Document Frequency"
   ]
  },
  {
   "cell_type": "code",
   "execution_count": 62,
   "metadata": {},
   "outputs": [],
   "source": [
    "from sklearn.feature_extraction.text import TfidfVectorizer\n",
    "\n",
    "tf_idf_vec = TfidfVectorizer()\n",
    "# tf_idf_vec = TfidfVectorizer(ngram_range=(1,3), max_features=10)     ## *ngram_range: (1 to 3): consider single word, BI-GRAMS and TRI-GRAMS \n",
    "#                                                                     ## max_features: Consider TOP-(max_features) only (here TOP-10)\n",
    "\n",
    "X_tfidf = tf_idf_vec.fit_transform(corpus)"
   ]
  },
  {
   "cell_type": "code",
   "execution_count": 63,
   "metadata": {},
   "outputs": [
    {
     "name": "stdout",
     "output_type": "stream",
     "text": [
      "naruto japanese manga series written illustrated masashi kishimoto\n"
     ]
    },
    {
     "data": {
      "text/plain": [
       "array([[0.        , 0.        , 0.        , 0.        , 0.        ,\n",
       "        0.        , 0.        , 0.        , 0.        , 0.        ,\n",
       "        0.        , 0.        , 0.        , 0.        , 0.        ,\n",
       "        0.        , 0.        , 0.        , 0.        , 0.        ,\n",
       "        0.        , 0.        , 0.        , 0.        , 0.        ,\n",
       "        0.        , 0.        , 0.        , 0.        , 0.        ,\n",
       "        0.        , 0.        , 0.        , 0.        , 0.38708586,\n",
       "        0.        , 0.        , 0.        , 0.38708586, 0.        ,\n",
       "        0.38708586, 0.        , 0.        , 0.        , 0.        ,\n",
       "        0.        , 0.        , 0.        , 0.3308669 , 0.38708586,\n",
       "        0.        , 0.        , 0.        , 0.        , 0.178541  ,\n",
       "        0.        , 0.        , 0.        , 0.        , 0.        ,\n",
       "        0.        , 0.        , 0.        , 0.        , 0.        ,\n",
       "        0.        , 0.        , 0.        , 0.        , 0.        ,\n",
       "        0.        , 0.        , 0.        , 0.        , 0.        ,\n",
       "        0.        , 0.        , 0.3308669 , 0.        , 0.        ,\n",
       "        0.        , 0.        , 0.        , 0.        , 0.        ,\n",
       "        0.        , 0.        , 0.        , 0.        , 0.        ,\n",
       "        0.        , 0.        , 0.38708586, 0.        , 0.        ]])"
      ]
     },
     "execution_count": 63,
     "metadata": {},
     "output_type": "execute_result"
    }
   ],
   "source": [
    "print(corpus[0])\n",
    "\n",
    "X_tfidf[0].toarray()        # TF-IDF Vector of first sentence of the Corpus"
   ]
  },
  {
   "cell_type": "code",
   "execution_count": null,
   "metadata": {},
   "outputs": [],
   "source": []
  }
 ],
 "metadata": {
  "kernelspec": {
   "display_name": "Python 3",
   "language": "python",
   "name": "python3"
  },
  "language_info": {
   "codemirror_mode": {
    "name": "ipython",
    "version": 3
   },
   "file_extension": ".py",
   "mimetype": "text/x-python",
   "name": "python",
   "nbconvert_exporter": "python",
   "pygments_lexer": "ipython3",
   "version": "3.10.6"
  }
 },
 "nbformat": 4,
 "nbformat_minor": 2
}
